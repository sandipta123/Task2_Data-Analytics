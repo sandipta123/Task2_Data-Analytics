{
  "nbformat": 4,
  "nbformat_minor": 0,
  "metadata": {
    "colab": {
      "name": "stock.ipynb",
      "provenance": [],
      "collapsed_sections": []
    },
    "kernelspec": {
      "name": "python3",
      "display_name": "Python 3"
    },
    "language_info": {
      "name": "python"
    }
  },
  "cells": [
    {
      "cell_type": "code",
      "execution_count": null,
      "metadata": {
        "colab": {
          "base_uri": "https://localhost:8080/",
          "height": 424
        },
        "id": "EYyg3Hv5p7ZR",
        "outputId": "d5dad05e-7f1a-4a34-fd2f-e7caeb2c057c"
      },
      "outputs": [
        {
          "output_type": "execute_result",
          "data": {
            "text/html": [
              "\n",
              "  <div id=\"df-2e17827a-ec5e-47b3-90c6-9971d1759322\">\n",
              "    <div class=\"colab-df-container\">\n",
              "      <div>\n",
              "<style scoped>\n",
              "    .dataframe tbody tr th:only-of-type {\n",
              "        vertical-align: middle;\n",
              "    }\n",
              "\n",
              "    .dataframe tbody tr th {\n",
              "        vertical-align: top;\n",
              "    }\n",
              "\n",
              "    .dataframe thead th {\n",
              "        text-align: right;\n",
              "    }\n",
              "</style>\n",
              "<table border=\"1\" class=\"dataframe\">\n",
              "  <thead>\n",
              "    <tr style=\"text-align: right;\">\n",
              "      <th></th>\n",
              "      <th>Date</th>\n",
              "      <th>Open</th>\n",
              "      <th>High</th>\n",
              "      <th>Low</th>\n",
              "      <th>Last</th>\n",
              "      <th>Close</th>\n",
              "      <th>Total Trade Quantity</th>\n",
              "      <th>Turnover (Lacs)</th>\n",
              "    </tr>\n",
              "  </thead>\n",
              "  <tbody>\n",
              "    <tr>\n",
              "      <th>0</th>\n",
              "      <td>2018-09-28</td>\n",
              "      <td>234.05</td>\n",
              "      <td>235.95</td>\n",
              "      <td>230.20</td>\n",
              "      <td>233.50</td>\n",
              "      <td>233.75</td>\n",
              "      <td>3069914</td>\n",
              "      <td>7162.35</td>\n",
              "    </tr>\n",
              "    <tr>\n",
              "      <th>1</th>\n",
              "      <td>2018-09-27</td>\n",
              "      <td>234.55</td>\n",
              "      <td>236.80</td>\n",
              "      <td>231.10</td>\n",
              "      <td>233.80</td>\n",
              "      <td>233.25</td>\n",
              "      <td>5082859</td>\n",
              "      <td>11859.95</td>\n",
              "    </tr>\n",
              "    <tr>\n",
              "      <th>2</th>\n",
              "      <td>2018-09-26</td>\n",
              "      <td>240.00</td>\n",
              "      <td>240.00</td>\n",
              "      <td>232.50</td>\n",
              "      <td>235.00</td>\n",
              "      <td>234.25</td>\n",
              "      <td>2240909</td>\n",
              "      <td>5248.60</td>\n",
              "    </tr>\n",
              "    <tr>\n",
              "      <th>3</th>\n",
              "      <td>2018-09-25</td>\n",
              "      <td>233.30</td>\n",
              "      <td>236.75</td>\n",
              "      <td>232.00</td>\n",
              "      <td>236.25</td>\n",
              "      <td>236.10</td>\n",
              "      <td>2349368</td>\n",
              "      <td>5503.90</td>\n",
              "    </tr>\n",
              "    <tr>\n",
              "      <th>4</th>\n",
              "      <td>2018-09-24</td>\n",
              "      <td>233.55</td>\n",
              "      <td>239.20</td>\n",
              "      <td>230.75</td>\n",
              "      <td>234.00</td>\n",
              "      <td>233.30</td>\n",
              "      <td>3423509</td>\n",
              "      <td>7999.55</td>\n",
              "    </tr>\n",
              "    <tr>\n",
              "      <th>...</th>\n",
              "      <td>...</td>\n",
              "      <td>...</td>\n",
              "      <td>...</td>\n",
              "      <td>...</td>\n",
              "      <td>...</td>\n",
              "      <td>...</td>\n",
              "      <td>...</td>\n",
              "      <td>...</td>\n",
              "    </tr>\n",
              "    <tr>\n",
              "      <th>95</th>\n",
              "      <td>2018-05-14</td>\n",
              "      <td>280.00</td>\n",
              "      <td>281.35</td>\n",
              "      <td>251.85</td>\n",
              "      <td>257.00</td>\n",
              "      <td>255.90</td>\n",
              "      <td>16822847</td>\n",
              "      <td>43913.37</td>\n",
              "    </tr>\n",
              "    <tr>\n",
              "      <th>96</th>\n",
              "      <td>2018-05-11</td>\n",
              "      <td>284.40</td>\n",
              "      <td>290.50</td>\n",
              "      <td>284.40</td>\n",
              "      <td>287.00</td>\n",
              "      <td>287.50</td>\n",
              "      <td>1974327</td>\n",
              "      <td>5685.22</td>\n",
              "    </tr>\n",
              "    <tr>\n",
              "      <th>97</th>\n",
              "      <td>2018-05-10</td>\n",
              "      <td>292.95</td>\n",
              "      <td>293.00</td>\n",
              "      <td>283.45</td>\n",
              "      <td>284.15</td>\n",
              "      <td>285.25</td>\n",
              "      <td>1446384</td>\n",
              "      <td>4157.17</td>\n",
              "    </tr>\n",
              "    <tr>\n",
              "      <th>98</th>\n",
              "      <td>2018-05-09</td>\n",
              "      <td>289.60</td>\n",
              "      <td>294.35</td>\n",
              "      <td>288.60</td>\n",
              "      <td>292.00</td>\n",
              "      <td>292.00</td>\n",
              "      <td>1820409</td>\n",
              "      <td>5311.00</td>\n",
              "    </tr>\n",
              "    <tr>\n",
              "      <th>99</th>\n",
              "      <td>2018-05-08</td>\n",
              "      <td>296.00</td>\n",
              "      <td>296.20</td>\n",
              "      <td>287.25</td>\n",
              "      <td>289.50</td>\n",
              "      <td>289.70</td>\n",
              "      <td>1720983</td>\n",
              "      <td>4998.87</td>\n",
              "    </tr>\n",
              "  </tbody>\n",
              "</table>\n",
              "<p>100 rows × 8 columns</p>\n",
              "</div>\n",
              "      <button class=\"colab-df-convert\" onclick=\"convertToInteractive('df-2e17827a-ec5e-47b3-90c6-9971d1759322')\"\n",
              "              title=\"Convert this dataframe to an interactive table.\"\n",
              "              style=\"display:none;\">\n",
              "        \n",
              "  <svg xmlns=\"http://www.w3.org/2000/svg\" height=\"24px\"viewBox=\"0 0 24 24\"\n",
              "       width=\"24px\">\n",
              "    <path d=\"M0 0h24v24H0V0z\" fill=\"none\"/>\n",
              "    <path d=\"M18.56 5.44l.94 2.06.94-2.06 2.06-.94-2.06-.94-.94-2.06-.94 2.06-2.06.94zm-11 1L8.5 8.5l.94-2.06 2.06-.94-2.06-.94L8.5 2.5l-.94 2.06-2.06.94zm10 10l.94 2.06.94-2.06 2.06-.94-2.06-.94-.94-2.06-.94 2.06-2.06.94z\"/><path d=\"M17.41 7.96l-1.37-1.37c-.4-.4-.92-.59-1.43-.59-.52 0-1.04.2-1.43.59L10.3 9.45l-7.72 7.72c-.78.78-.78 2.05 0 2.83L4 21.41c.39.39.9.59 1.41.59.51 0 1.02-.2 1.41-.59l7.78-7.78 2.81-2.81c.8-.78.8-2.07 0-2.86zM5.41 20L4 18.59l7.72-7.72 1.47 1.35L5.41 20z\"/>\n",
              "  </svg>\n",
              "      </button>\n",
              "      \n",
              "  <style>\n",
              "    .colab-df-container {\n",
              "      display:flex;\n",
              "      flex-wrap:wrap;\n",
              "      gap: 12px;\n",
              "    }\n",
              "\n",
              "    .colab-df-convert {\n",
              "      background-color: #E8F0FE;\n",
              "      border: none;\n",
              "      border-radius: 50%;\n",
              "      cursor: pointer;\n",
              "      display: none;\n",
              "      fill: #1967D2;\n",
              "      height: 32px;\n",
              "      padding: 0 0 0 0;\n",
              "      width: 32px;\n",
              "    }\n",
              "\n",
              "    .colab-df-convert:hover {\n",
              "      background-color: #E2EBFA;\n",
              "      box-shadow: 0px 1px 2px rgba(60, 64, 67, 0.3), 0px 1px 3px 1px rgba(60, 64, 67, 0.15);\n",
              "      fill: #174EA6;\n",
              "    }\n",
              "\n",
              "    [theme=dark] .colab-df-convert {\n",
              "      background-color: #3B4455;\n",
              "      fill: #D2E3FC;\n",
              "    }\n",
              "\n",
              "    [theme=dark] .colab-df-convert:hover {\n",
              "      background-color: #434B5C;\n",
              "      box-shadow: 0px 1px 3px 1px rgba(0, 0, 0, 0.15);\n",
              "      filter: drop-shadow(0px 1px 2px rgba(0, 0, 0, 0.3));\n",
              "      fill: #FFFFFF;\n",
              "    }\n",
              "  </style>\n",
              "\n",
              "      <script>\n",
              "        const buttonEl =\n",
              "          document.querySelector('#df-2e17827a-ec5e-47b3-90c6-9971d1759322 button.colab-df-convert');\n",
              "        buttonEl.style.display =\n",
              "          google.colab.kernel.accessAllowed ? 'block' : 'none';\n",
              "\n",
              "        async function convertToInteractive(key) {\n",
              "          const element = document.querySelector('#df-2e17827a-ec5e-47b3-90c6-9971d1759322');\n",
              "          const dataTable =\n",
              "            await google.colab.kernel.invokeFunction('convertToInteractive',\n",
              "                                                     [key], {});\n",
              "          if (!dataTable) return;\n",
              "\n",
              "          const docLinkHtml = 'Like what you see? Visit the ' +\n",
              "            '<a target=\"_blank\" href=https://colab.research.google.com/notebooks/data_table.ipynb>data table notebook</a>'\n",
              "            + ' to learn more about interactive tables.';\n",
              "          element.innerHTML = '';\n",
              "          dataTable['output_type'] = 'display_data';\n",
              "          await google.colab.output.renderOutput(dataTable, element);\n",
              "          const docLink = document.createElement('div');\n",
              "          docLink.innerHTML = docLinkHtml;\n",
              "          element.appendChild(docLink);\n",
              "        }\n",
              "      </script>\n",
              "    </div>\n",
              "  </div>\n",
              "  "
            ],
            "text/plain": [
              "          Date    Open    High  ...   Close  Total Trade Quantity  Turnover (Lacs)\n",
              "0   2018-09-28  234.05  235.95  ...  233.75               3069914          7162.35\n",
              "1   2018-09-27  234.55  236.80  ...  233.25               5082859         11859.95\n",
              "2   2018-09-26  240.00  240.00  ...  234.25               2240909          5248.60\n",
              "3   2018-09-25  233.30  236.75  ...  236.10               2349368          5503.90\n",
              "4   2018-09-24  233.55  239.20  ...  233.30               3423509          7999.55\n",
              "..         ...     ...     ...  ...     ...                   ...              ...\n",
              "95  2018-05-14  280.00  281.35  ...  255.90              16822847         43913.37\n",
              "96  2018-05-11  284.40  290.50  ...  287.50               1974327          5685.22\n",
              "97  2018-05-10  292.95  293.00  ...  285.25               1446384          4157.17\n",
              "98  2018-05-09  289.60  294.35  ...  292.00               1820409          5311.00\n",
              "99  2018-05-08  296.00  296.20  ...  289.70               1720983          4998.87\n",
              "\n",
              "[100 rows x 8 columns]"
            ]
          },
          "metadata": {},
          "execution_count": 1
        }
      ],
      "source": [
        "import pandas as pd\n",
        "import seaborn as sns\n",
        "import matplotlib.pyplot as plt\n",
        "from sklearn.model_selection import train_test_split\n",
        "df = pd.read_csv(\"/content/NSE-TATAGLOBAL.csv\")\n",
        "df.head(100)"
      ]
    },
    {
      "cell_type": "code",
      "source": [
        "df1=df.reset_index()['Close']"
      ],
      "metadata": {
        "id": "HxVJtHWBuFU2"
      },
      "execution_count": null,
      "outputs": []
    },
    {
      "cell_type": "code",
      "source": [
        "import matplotlib.pyplot as plt\n",
        "plt.plot(df1)"
      ],
      "metadata": {
        "colab": {
          "base_uri": "https://localhost:8080/",
          "height": 282
        },
        "id": "Ce--KWAVuizB",
        "outputId": "80d8545a-edde-4b30-c626-3e917aab374f"
      },
      "execution_count": null,
      "outputs": [
        {
          "output_type": "execute_result",
          "data": {
            "text/plain": [
              "[<matplotlib.lines.Line2D at 0x7fdd30a507d0>]"
            ]
          },
          "metadata": {},
          "execution_count": 10
        },
        {
          "output_type": "display_data",
          "data": {
            "image/png": "[encoded data removed]",
            "text/plain": [
              "<Figure size 432x288 with 1 Axes>"
            ]
          },
          "metadata": {
            "needs_background": "light"
          }
        }
      ]
    },
    {
      "cell_type": "markdown",
      "source": [
        "use min-max scalar to transform the values from 0 to 1"
      ],
      "metadata": {
        "id": "xrmkrd2lys1C"
      }
    },
    {
      "cell_type": "code",
      "source": [
        "from sklearn.preprocessing import MinMaxScaler\n",
        "import numpy as np\n",
        "scaler=MinMaxScaler(feature_range=(0,1))\n",
        "df1=scaler.fit_transform(np.array(df1).reshape(-1,1))"
      ],
      "metadata": {
        "id": "Q2Ly_3Sitipi"
      },
      "execution_count": null,
      "outputs": []
    },
    {
      "cell_type": "code",
      "source": [
        "df1"
      ],
      "metadata": {
        "colab": {
          "base_uri": "https://localhost:8080/"
        },
        "id": "SACEJLfFusof",
        "outputId": "583a0039-f9ae-4870-f69b-2d5c512ea7d4"
      },
      "execution_count": null,
      "outputs": [
        {
          "output_type": "execute_result",
          "data": {
            "text/plain": [
              "array([[0.62418301],\n",
              "       [0.62214052],\n",
              "       [0.62622549],\n",
              "       ...,\n",
              "       [0.1621732 ],\n",
              "       [0.16319444],\n",
              "       [0.16584967]])"
            ]
          },
          "metadata": {},
          "execution_count": 11
        }
      ]
    },
    {
      "cell_type": "markdown",
      "source": [
        "Train and Test Split"
      ],
      "metadata": {
        "id": "TMHfEyGtyxeF"
      }
    },
    {
      "cell_type": "code",
      "source": [
        "training_size=int(len(df1)*0.65)\n",
        "test_size=len(df1)-training_size\n",
        "train_data,test_data=df1[0:training_size,:],df1[training_size:len(df1),:1]"
      ],
      "metadata": {
        "id": "aClGm1qbuPzr"
      },
      "execution_count": null,
      "outputs": []
    },
    {
      "cell_type": "code",
      "source": [
        "training_size,test_size"
      ],
      "metadata": {
        "colab": {
          "base_uri": "https://localhost:8080/"
        },
        "id": "94kVW2O3uzKp",
        "outputId": "e2b36a4a-875e-4041-d594-7dc45161e725"
      },
      "execution_count": null,
      "outputs": [
        {
          "output_type": "execute_result",
          "data": {
            "text/plain": [
              "(1322, 713)"
            ]
          },
          "metadata": {},
          "execution_count": 12
        }
      ]
    },
    {
      "cell_type": "markdown",
      "source": [
        "Data Preprocessing"
      ],
      "metadata": {
        "id": "31VFkKY5y0aF"
      }
    },
    {
      "cell_type": "code",
      "source": [
        "import numpy\n",
        "# convert an array of values into a dataset matrix\n",
        "def create_dataset(dataset, time_step=1):\n",
        "\tdataX, dataY = [], []\n",
        "\tfor i in range(len(dataset)-time_step-1):\n",
        "\t\ta = dataset[i:(i+time_step), 0]   ###i=0, 0,1,2,3-----99   100 \n",
        "\t\tdataX.append(a)\n",
        "\t\tdataY.append(dataset[i + time_step, 0])\n",
        "\treturn numpy.array(dataX), numpy.array(dataY)"
      ],
      "metadata": {
        "id": "ONQkaqQeuP1W"
      },
      "execution_count": null,
      "outputs": []
    },
    {
      "cell_type": "code",
      "source": [
        "time_step = 100\n",
        "X_train, y_train = create_dataset(train_data, time_step)\n",
        "X_test, ytest = create_dataset(test_data, time_step)"
      ],
      "metadata": {
        "id": "zhnRczqguW24"
      },
      "execution_count": null,
      "outputs": []
    },
    {
      "cell_type": "markdown",
      "source": [
        "reshaping our train set"
      ],
      "metadata": {
        "id": "0gnZGVoQy9PT"
      }
    },
    {
      "cell_type": "code",
      "source": [
        "# reshape input to be [samples, time steps, features] which is required for LSTM\n",
        "X_train =X_train.reshape(X_train.shape[0],X_train.shape[1] , 1)\n",
        "X_test = X_test.reshape(X_test.shape[0],X_test.shape[1] , 1)"
      ],
      "metadata": {
        "id": "pZS0httYuP4_"
      },
      "execution_count": null,
      "outputs": []
    },
    {
      "cell_type": "markdown",
      "source": [
        "*LSTM*"
      ],
      "metadata": {
        "id": "-LfBa0sHzA0h"
      }
    },
    {
      "cell_type": "markdown",
      "source": [
        "using a sequential model and adding the layers of the LSTM"
      ],
      "metadata": {
        "id": "yOC91fjmzGv9"
      }
    },
    {
      "cell_type": "code",
      "source": [
        "from tensorflow.keras.models import Sequential\n",
        "from tensorflow.keras.layers import Dense\n",
        "from tensorflow.keras.layers import LSTM\n",
        "model=Sequential()\n",
        "model.add(LSTM(50,return_sequences=True,input_shape=(100,1)))\n",
        "model.add(LSTM(50,return_sequences=True))\n",
        "model.add(LSTM(50))\n",
        "model.add(Dense(1))\n",
        "model.compile(loss='mean_squared_error',optimizer='adam')"
      ],
      "metadata": {
        "id": "UbRcElxZvDGO"
      },
      "execution_count": null,
      "outputs": []
    },
    {
      "cell_type": "markdown",
      "source": [
        " summary"
      ],
      "metadata": {
        "id": "vuQckyD3zKUO"
      }
    },
    {
      "cell_type": "code",
      "source": [
        "model.summary()"
      ],
      "metadata": {
        "colab": {
          "base_uri": "https://localhost:8080/"
        },
        "id": "xdBA2YXJvFnu",
        "outputId": "aba0bf94-7ba5-4a4f-efa9-b2ae36de2281"
      },
      "execution_count": null,
      "outputs": [
        {
          "output_type": "stream",
          "name": "stdout",
          "text": [
            "Model: \"sequential\"\n",
            "_________________________________________________________________\n",
            " Layer (type)                Output Shape              Param #   \n",
            "=================================================================\n",
            " lstm (LSTM)                 (None, 100, 50)           10400     \n",
            "                                                                 \n",
            " lstm_1 (LSTM)               (None, 100, 50)           20200     \n",
            "                                                                 \n",
            " lstm_2 (LSTM)               (None, 50)                20200     \n",
            "                                                                 \n",
            " dense (Dense)               (None, 1)                 51        \n",
            "                                                                 \n",
            "=================================================================\n",
            "Total params: 50,851\n",
            "Trainable params: 50,851\n",
            "Non-trainable params: 0\n",
            "_________________________________________________________________\n"
          ]
        }
      ]
    },
    {
      "cell_type": "code",
      "source": [
        "model.fit(X_train,y_train,validation_data=(X_test,ytest),epochs=100,batch_size=64,verbose=1)"
      ],
      "metadata": {
        "colab": {
          "base_uri": "https://localhost:8080/"
        },
        "id": "QTf1ksSnvM1o",
        "outputId": "882dbe8c-a799-45f4-d5ee-a6bf169bc26f"
      },
      "execution_count": null,
      "outputs": [
        {
          "output_type": "stream",
          "name": "stdout",
          "text": [
            "Epoch 1/100\n",
            "20/20 [==============================] - 12s 329ms/step - loss: 0.0271 - val_loss: 0.0033\n",
            "Epoch 2/100\n",
            "20/20 [==============================] - 4s 184ms/step - loss: 0.0024 - val_loss: 0.0013\n",
            "Epoch 3/100\n",
            "20/20 [==============================] - 5s 250ms/step - loss: 0.0019 - val_loss: 9.5602e-04\n",
            "Epoch 4/100\n",
            "20/20 [==============================] - 4s 182ms/step - loss: 0.0016 - val_loss: 0.0014\n",
            "Epoch 5/100\n",
            "20/20 [==============================] - 4s 176ms/step - loss: 0.0022 - val_loss: 8.8748e-04\n",
            "Epoch 6/100\n",
            "20/20 [==============================] - 5s 257ms/step - loss: 0.0015 - val_loss: 0.0011\n",
            "Epoch 7/100\n",
            "20/20 [==============================] - 4s 183ms/step - loss: 0.0014 - val_loss: 0.0014\n",
            "Epoch 8/100\n",
            "20/20 [==============================] - 4s 183ms/step - loss: 0.0014 - val_loss: 9.5968e-04\n",
            "Epoch 9/100\n",
            "20/20 [==============================] - 4s 182ms/step - loss: 0.0016 - val_loss: 8.8356e-04\n",
            "Epoch 10/100\n",
            "20/20 [==============================] - 4s 183ms/step - loss: 0.0014 - val_loss: 0.0011\n",
            "Epoch 11/100\n",
            "20/20 [==============================] - 4s 180ms/step - loss: 0.0012 - val_loss: 0.0010\n",
            "Epoch 12/100\n",
            "20/20 [==============================] - 4s 181ms/step - loss: 0.0011 - val_loss: 8.8982e-04\n",
            "Epoch 13/100\n",
            "20/20 [==============================] - 4s 184ms/step - loss: 0.0010 - val_loss: 9.1764e-04\n",
            "Epoch 14/100\n",
            "20/20 [==============================] - 4s 186ms/step - loss: 9.1221e-04 - val_loss: 9.0013e-04\n",
            "Epoch 15/100\n",
            "20/20 [==============================] - 7s 369ms/step - loss: 9.2912e-04 - val_loss: 7.9381e-04\n",
            "Epoch 16/100\n",
            "20/20 [==============================] - 6s 303ms/step - loss: 0.0015 - val_loss: 6.6850e-04\n",
            "Epoch 17/100\n",
            "20/20 [==============================] - 5s 237ms/step - loss: 0.0013 - val_loss: 7.3239e-04\n",
            "Epoch 18/100\n",
            "20/20 [==============================] - 4s 202ms/step - loss: 8.4285e-04 - val_loss: 8.8106e-04\n",
            "Epoch 19/100\n",
            "20/20 [==============================] - 5s 248ms/step - loss: 8.3340e-04 - val_loss: 6.0032e-04\n",
            "Epoch 20/100\n",
            "20/20 [==============================] - 4s 182ms/step - loss: 7.6609e-04 - val_loss: 5.9315e-04\n",
            "Epoch 21/100\n",
            "20/20 [==============================] - 4s 198ms/step - loss: 7.3262e-04 - val_loss: 9.5147e-04\n",
            "Epoch 22/100\n",
            "20/20 [==============================] - 5s 266ms/step - loss: 7.4778e-04 - val_loss: 6.8043e-04\n",
            "Epoch 23/100\n",
            "20/20 [==============================] - 5s 238ms/step - loss: 6.6244e-04 - val_loss: 7.2150e-04\n",
            "Epoch 24/100\n",
            "20/20 [==============================] - 5s 265ms/step - loss: 6.4625e-04 - val_loss: 8.0076e-04\n",
            "Epoch 25/100\n",
            "20/20 [==============================] - 4s 192ms/step - loss: 6.6254e-04 - val_loss: 6.2903e-04\n",
            "Epoch 26/100\n",
            "20/20 [==============================] - 6s 298ms/step - loss: 7.2661e-04 - val_loss: 6.4392e-04\n",
            "Epoch 27/100\n",
            "20/20 [==============================] - 4s 182ms/step - loss: 7.1378e-04 - val_loss: 6.8461e-04\n",
            "Epoch 28/100\n",
            "20/20 [==============================] - 4s 227ms/step - loss: 6.3745e-04 - val_loss: 6.3424e-04\n",
            "Epoch 29/100\n",
            "20/20 [==============================] - 5s 260ms/step - loss: 0.0010 - val_loss: 5.7298e-04\n",
            "Epoch 30/100\n",
            "20/20 [==============================] - 5s 270ms/step - loss: 5.7869e-04 - val_loss: 7.1826e-04\n",
            "Epoch 31/100\n",
            "20/20 [==============================] - 4s 211ms/step - loss: 5.9526e-04 - val_loss: 6.2371e-04\n",
            "Epoch 32/100\n",
            "20/20 [==============================] - 5s 244ms/step - loss: 5.4594e-04 - val_loss: 5.7627e-04\n",
            "Epoch 33/100\n",
            "20/20 [==============================] - 4s 201ms/step - loss: 5.8006e-04 - val_loss: 5.6332e-04\n",
            "Epoch 34/100\n",
            "20/20 [==============================] - 5s 222ms/step - loss: 5.1571e-04 - val_loss: 7.2912e-04\n",
            "Epoch 35/100\n",
            "20/20 [==============================] - 6s 296ms/step - loss: 5.0957e-04 - val_loss: 6.0136e-04\n",
            "Epoch 36/100\n",
            "20/20 [==============================] - 6s 322ms/step - loss: 5.5470e-04 - val_loss: 5.7142e-04\n",
            "Epoch 37/100\n",
            "20/20 [==============================] - 4s 186ms/step - loss: 5.4173e-04 - val_loss: 6.0398e-04\n",
            "Epoch 38/100\n",
            "20/20 [==============================] - 4s 182ms/step - loss: 4.8264e-04 - val_loss: 6.4853e-04\n",
            "Epoch 39/100\n",
            "20/20 [==============================] - 4s 178ms/step - loss: 4.6683e-04 - val_loss: 5.4343e-04\n",
            "Epoch 40/100\n",
            "20/20 [==============================] - 4s 180ms/step - loss: 4.5745e-04 - val_loss: 4.8040e-04\n",
            "Epoch 41/100\n",
            "20/20 [==============================] - 4s 176ms/step - loss: 4.5336e-04 - val_loss: 4.5117e-04\n",
            "Epoch 42/100\n",
            "20/20 [==============================] - 4s 177ms/step - loss: 4.5712e-04 - val_loss: 5.9307e-04\n",
            "Epoch 43/100\n",
            "20/20 [==============================] - 4s 180ms/step - loss: 4.5575e-04 - val_loss: 4.3538e-04\n",
            "Epoch 44/100\n",
            "20/20 [==============================] - 4s 177ms/step - loss: 4.3191e-04 - val_loss: 4.4458e-04\n",
            "Epoch 45/100\n",
            "20/20 [==============================] - 4s 178ms/step - loss: 5.1419e-04 - val_loss: 5.5632e-04\n",
            "Epoch 46/100\n",
            "20/20 [==============================] - 4s 177ms/step - loss: 5.0215e-04 - val_loss: 3.8690e-04\n",
            "Epoch 47/100\n",
            "20/20 [==============================] - 4s 179ms/step - loss: 4.6186e-04 - val_loss: 5.1603e-04\n",
            "Epoch 48/100\n",
            "20/20 [==============================] - 4s 180ms/step - loss: 3.9132e-04 - val_loss: 4.7443e-04\n",
            "Epoch 49/100\n",
            "20/20 [==============================] - 4s 181ms/step - loss: 3.7326e-04 - val_loss: 4.5482e-04\n",
            "Epoch 50/100\n",
            "20/20 [==============================] - 4s 182ms/step - loss: 3.7225e-04 - val_loss: 3.9070e-04\n",
            "Epoch 51/100\n",
            "20/20 [==============================] - 4s 181ms/step - loss: 4.1867e-04 - val_loss: 3.3947e-04\n",
            "Epoch 52/100\n",
            "20/20 [==============================] - 4s 182ms/step - loss: 4.2239e-04 - val_loss: 4.4047e-04\n",
            "Epoch 53/100\n",
            "20/20 [==============================] - 4s 182ms/step - loss: 3.7624e-04 - val_loss: 3.0233e-04\n",
            "Epoch 54/100\n",
            "20/20 [==============================] - 4s 183ms/step - loss: 3.6063e-04 - val_loss: 3.4656e-04\n",
            "Epoch 55/100\n",
            "20/20 [==============================] - 4s 180ms/step - loss: 3.5022e-04 - val_loss: 3.2874e-04\n",
            "Epoch 56/100\n",
            "20/20 [==============================] - 4s 183ms/step - loss: 5.4533e-04 - val_loss: 3.4707e-04\n",
            "Epoch 57/100\n",
            "20/20 [==============================] - 4s 183ms/step - loss: 3.8489e-04 - val_loss: 4.3942e-04\n",
            "Epoch 58/100\n",
            "20/20 [==============================] - 4s 181ms/step - loss: 3.2965e-04 - val_loss: 3.8827e-04\n",
            "Epoch 59/100\n",
            "20/20 [==============================] - 4s 182ms/step - loss: 3.5898e-04 - val_loss: 3.0630e-04\n",
            "Epoch 60/100\n",
            "20/20 [==============================] - 4s 180ms/step - loss: 3.0916e-04 - val_loss: 2.5407e-04\n",
            "Epoch 61/100\n",
            "20/20 [==============================] - 4s 180ms/step - loss: 3.2382e-04 - val_loss: 2.8460e-04\n",
            "Epoch 62/100\n",
            "20/20 [==============================] - 4s 181ms/step - loss: 2.8412e-04 - val_loss: 3.1820e-04\n",
            "Epoch 63/100\n",
            "20/20 [==============================] - 4s 180ms/step - loss: 2.9761e-04 - val_loss: 4.4374e-04\n",
            "Epoch 64/100\n",
            "20/20 [==============================] - 4s 205ms/step - loss: 3.3526e-04 - val_loss: 2.6573e-04\n",
            "Epoch 65/100\n",
            "20/20 [==============================] - 4s 206ms/step - loss: 2.7653e-04 - val_loss: 3.5082e-04\n",
            "Epoch 66/100\n",
            "20/20 [==============================] - 4s 181ms/step - loss: 2.7497e-04 - val_loss: 2.6415e-04\n",
            "Epoch 67/100\n",
            "20/20 [==============================] - 4s 181ms/step - loss: 2.7942e-04 - val_loss: 2.5095e-04\n",
            "Epoch 68/100\n",
            "20/20 [==============================] - 4s 182ms/step - loss: 2.6215e-04 - val_loss: 2.2343e-04\n",
            "Epoch 69/100\n",
            "20/20 [==============================] - 4s 181ms/step - loss: 2.6802e-04 - val_loss: 3.1119e-04\n",
            "Epoch 70/100\n",
            "20/20 [==============================] - 4s 185ms/step - loss: 2.5040e-04 - val_loss: 2.2488e-04\n",
            "Epoch 71/100\n",
            "20/20 [==============================] - 4s 183ms/step - loss: 2.5941e-04 - val_loss: 2.1752e-04\n",
            "Epoch 72/100\n",
            "20/20 [==============================] - 4s 184ms/step - loss: 2.6661e-04 - val_loss: 2.8912e-04\n",
            "Epoch 73/100\n",
            "20/20 [==============================] - 4s 184ms/step - loss: 2.7648e-04 - val_loss: 1.9062e-04\n",
            "Epoch 74/100\n",
            "20/20 [==============================] - 4s 185ms/step - loss: 2.4725e-04 - val_loss: 2.0537e-04\n",
            "Epoch 75/100\n",
            "20/20 [==============================] - 4s 184ms/step - loss: 2.7178e-04 - val_loss: 2.2728e-04\n",
            "Epoch 76/100\n",
            "20/20 [==============================] - 4s 180ms/step - loss: 2.5380e-04 - val_loss: 2.0801e-04\n",
            "Epoch 77/100\n",
            "20/20 [==============================] - 4s 182ms/step - loss: 2.5658e-04 - val_loss: 2.4654e-04\n",
            "Epoch 78/100\n",
            "20/20 [==============================] - 4s 182ms/step - loss: 2.3642e-04 - val_loss: 2.0343e-04\n",
            "Epoch 79/100\n",
            "20/20 [==============================] - 4s 182ms/step - loss: 2.4394e-04 - val_loss: 2.1059e-04\n",
            "Epoch 80/100\n",
            "20/20 [==============================] - 4s 182ms/step - loss: 3.5873e-04 - val_loss: 1.7823e-04\n",
            "Epoch 81/100\n",
            "20/20 [==============================] - 4s 180ms/step - loss: 2.6360e-04 - val_loss: 2.1159e-04\n",
            "Epoch 82/100\n",
            "20/20 [==============================] - 4s 180ms/step - loss: 2.3315e-04 - val_loss: 2.1830e-04\n",
            "Epoch 83/100\n",
            "20/20 [==============================] - 4s 181ms/step - loss: 2.3702e-04 - val_loss: 2.2379e-04\n",
            "Epoch 84/100\n",
            "20/20 [==============================] - 4s 182ms/step - loss: 2.3732e-04 - val_loss: 3.0974e-04\n",
            "Epoch 85/100\n",
            "20/20 [==============================] - 4s 181ms/step - loss: 2.5988e-04 - val_loss: 2.6714e-04\n",
            "Epoch 86/100\n",
            "20/20 [==============================] - 4s 181ms/step - loss: 2.4370e-04 - val_loss: 2.7533e-04\n",
            "Epoch 87/100\n",
            "20/20 [==============================] - 4s 182ms/step - loss: 2.7593e-04 - val_loss: 2.5629e-04\n",
            "Epoch 88/100\n",
            "20/20 [==============================] - 4s 183ms/step - loss: 5.1691e-04 - val_loss: 3.5360e-04\n",
            "Epoch 89/100\n",
            "20/20 [==============================] - 4s 183ms/step - loss: 2.7717e-04 - val_loss: 1.8259e-04\n",
            "Epoch 90/100\n",
            "20/20 [==============================] - 4s 183ms/step - loss: 2.1753e-04 - val_loss: 2.7002e-04\n",
            "Epoch 91/100\n",
            "20/20 [==============================] - 4s 182ms/step - loss: 2.2666e-04 - val_loss: 2.2763e-04\n",
            "Epoch 92/100\n",
            "20/20 [==============================] - 4s 182ms/step - loss: 2.2409e-04 - val_loss: 2.6279e-04\n",
            "Epoch 93/100\n",
            "20/20 [==============================] - 4s 209ms/step - loss: 2.3954e-04 - val_loss: 2.3609e-04\n",
            "Epoch 94/100\n",
            "20/20 [==============================] - 4s 182ms/step - loss: 2.0633e-04 - val_loss: 1.7921e-04\n",
            "Epoch 95/100\n",
            "20/20 [==============================] - 4s 182ms/step - loss: 2.1525e-04 - val_loss: 1.8082e-04\n",
            "Epoch 96/100\n",
            "20/20 [==============================] - 4s 183ms/step - loss: 2.4764e-04 - val_loss: 2.2940e-04\n",
            "Epoch 97/100\n",
            "20/20 [==============================] - 4s 182ms/step - loss: 2.1849e-04 - val_loss: 2.1742e-04\n",
            "Epoch 98/100\n",
            "20/20 [==============================] - 4s 181ms/step - loss: 2.0838e-04 - val_loss: 2.2057e-04\n",
            "Epoch 99/100\n",
            "20/20 [==============================] - 4s 181ms/step - loss: 2.1859e-04 - val_loss: 1.8823e-04\n",
            "Epoch 100/100\n",
            "20/20 [==============================] - 4s 181ms/step - loss: 2.1632e-04 - val_loss: 2.3834e-04\n"
          ]
        },
        {
          "output_type": "execute_result",
          "data": {
            "text/plain": [
              "<keras.callbacks.History at 0x7fdcc50cfa90>"
            ]
          },
          "metadata": {},
          "execution_count": 18
        }
      ]
    },
    {
      "cell_type": "code",
      "source": [
        "import tensorflow as tf\n",
        "train_predict=model.predict(X_train)\n",
        "test_predict=model.predict(X_test)"
      ],
      "metadata": {
        "id": "OphQgvaXvNBV"
      },
      "execution_count": null,
      "outputs": []
    },
    {
      "cell_type": "code",
      "source": [
        "##Transformback to original form\n",
        "train_predict=scaler.inverse_transform(train_predict)\n",
        "test_predict=scaler.inverse_transform(test_predict)"
      ],
      "metadata": {
        "id": "_isK834wvUpk"
      },
      "execution_count": null,
      "outputs": []
    },
    {
      "cell_type": "code",
      "source": [
        "### Calculate RMSE performance metrics\n",
        "import math\n",
        "from sklearn.metrics import mean_squared_error\n",
        "math.sqrt(mean_squared_error(y_train,train_predict))"
      ],
      "metadata": {
        "colab": {
          "base_uri": "https://localhost:8080/"
        },
        "id": "xUdbDxx_vdws",
        "outputId": "b0314f99-dacd-44d5-83d9-820a0584ee01"
      },
      "execution_count": null,
      "outputs": [
        {
          "output_type": "execute_result",
          "data": {
            "text/plain": [
              "166.5764254342818"
            ]
          },
          "metadata": {},
          "execution_count": 21
        }
      ]
    },
    {
      "cell_type": "code",
      "source": [
        "### Test Data RMSE\n",
        "math.sqrt(mean_squared_error(ytest,test_predict))"
      ],
      "metadata": {
        "colab": {
          "base_uri": "https://localhost:8080/"
        },
        "id": "76U62PTlvewe",
        "outputId": "3b017f44-d836-48f6-8aec-71448e310714"
      },
      "execution_count": null,
      "outputs": [
        {
          "output_type": "execute_result",
          "data": {
            "text/plain": [
              "116.80178095613122"
            ]
          },
          "metadata": {},
          "execution_count": 22
        }
      ]
    },
    {
      "cell_type": "markdown",
      "source": [
        "Green indicates the Predicted Data\n",
        "Blue indicates the Complete Data\n",
        "Orange indicates the Train Data"
      ],
      "metadata": {
        "id": "48KQxGJ8zXDO"
      }
    },
    {
      "cell_type": "code",
      "source": [
        "### Plotting \n",
        "# shift train predictions for plotting\n",
        "look_back=100\n",
        "trainPredictPlot = numpy.empty_like(df1)\n",
        "trainPredictPlot[:, :] = np.nan\n",
        "trainPredictPlot[look_back:len(train_predict)+look_back, :] = train_predict\n",
        "# shift test predictions for plotting\n",
        "testPredictPlot = numpy.empty_like(df1)\n",
        "testPredictPlot[:, :] = numpy.nan\n",
        "testPredictPlot[len(train_predict)+(look_back*2)+1:len(df1)-1, :] = test_predict\n",
        "# plot baseline and predictions\n",
        "plt.plot(scaler.inverse_transform(df1))\n",
        "plt.plot(trainPredictPlot)\n",
        "plt.plot(testPredictPlot)\n",
        "plt.show()"
      ],
      "metadata": {
        "colab": {
          "base_uri": "https://localhost:8080/",
          "height": 265
        },
        "id": "iI6WqZXBviNK",
        "outputId": "5dc7a39e-f6fe-4b33-f54f-e732a3691b26"
      },
      "execution_count": null,
      "outputs": [
        {
          "output_type": "display_data",
          "data": {
            "image/png": "[encoded data removed]",
            "text/plain": [
              "<Figure size 432x288 with 1 Axes>"
            ]
          },
          "metadata": {
            "needs_background": "light"
          }
        }
      ]
    },
    {
      "cell_type": "code",
      "source": [
        "len(test_data)"
      ],
      "metadata": {
        "colab": {
          "base_uri": "https://localhost:8080/"
        },
        "id": "YMLLEaT2zyBQ",
        "outputId": "3adc9267-0223-4c6e-986c-df8165832c1f"
      },
      "execution_count": null,
      "outputs": [
        {
          "output_type": "execute_result",
          "data": {
            "text/plain": [
              "713"
            ]
          },
          "metadata": {},
          "execution_count": 32
        }
      ]
    },
    {
      "cell_type": "code",
      "source": [
        "x_input=test_data[613:].reshape(1,-1)\n",
        "x_input.shape"
      ],
      "metadata": {
        "colab": {
          "base_uri": "https://localhost:8080/"
        },
        "id": "56TCWfQSz04D",
        "outputId": "61976e57-a1ab-4108-ed4f-e1789f74e1cc"
      },
      "execution_count": null,
      "outputs": [
        {
          "output_type": "execute_result",
          "data": {
            "text/plain": [
              "(1, 100)"
            ]
          },
          "metadata": {},
          "execution_count": 38
        }
      ]
    },
    {
      "cell_type": "code",
      "source": [
        "temp_input=list(x_input)\n",
        "temp_input=temp_input[0].tolist()"
      ],
      "metadata": {
        "id": "iLWpdIwI0d5V"
      },
      "execution_count": null,
      "outputs": []
    },
    {
      "cell_type": "code",
      "source": [
        "# demonstrate prediction for next 10 days\n",
        "from numpy import array\n",
        "\n",
        "lst_output=[]\n",
        "n_steps=100\n",
        "i=0\n",
        "while(i<30):\n",
        "    \n",
        "    if(len(temp_input)>100):\n",
        "        #print(temp_input)\n",
        "        x_input=np.array(temp_input[1:])\n",
        "        print(\"{} day input {}\".format(i,x_input))\n",
        "        x_input=x_input.reshape(1,-1)\n",
        "        x_input = x_input.reshape((1, n_steps, 1))\n",
        "        #print(x_input)\n",
        "        yhat = model.predict(x_input, verbose=0)\n",
        "        print(\"{} day output {}\".format(i,yhat))\n",
        "        temp_input.extend(yhat[0].tolist())\n",
        "        temp_input=temp_input[1:]\n",
        "        #print(temp_input)\n",
        "        lst_output.extend(yhat.tolist())\n",
        "        i=i+1\n",
        "    else:\n",
        "        x_input = x_input.reshape((1, n_steps,1))\n",
        "        yhat = model.predict(x_input, verbose=0)\n",
        "        print(yhat[0])\n",
        "        temp_input.extend(yhat[0].tolist())\n",
        "        print(len(temp_input))\n",
        "        lst_output.extend(yhat.tolist())\n",
        "        i=i+1\n",
        "    \n",
        "\n",
        "print(lst_output)"
      ],
      "metadata": {
        "colab": {
          "base_uri": "https://localhost:8080/"
        },
        "id": "XFlIvrB70gjj",
        "outputId": "7271fa44-99be-4fbc-b21b-96645ccd0b40"
      },
      "execution_count": null,
      "outputs": [
        {
          "output_type": "stream",
          "name": "stdout",
          "text": [
            "[0.17074783]\n",
            "101\n",
            "1 day input [0.13848039 0.14011438 0.13888889 0.13541667 0.14011438 0.1380719\n",
            " 0.13071895 0.13071895 0.12867647 0.11846405 0.14644608 0.14808007\n",
            " 0.15910948 0.15992647 0.15788399 0.16441993 0.17892157 0.17933007\n",
            " 0.19260621 0.20812908 0.18974673 0.18055556 0.18239379 0.17708333\n",
            " 0.17810458 0.18055556 0.17810458 0.17851307 0.19607843 0.18913399\n",
            " 0.18954248 0.19403595 0.19444444 0.20200163 0.19771242 0.19934641\n",
            " 0.19873366 0.1997549  0.2128268  0.21568627 0.20445261 0.21772876\n",
            " 0.21098856 0.21425654 0.19750817 0.18811275 0.17851307 0.17381536\n",
            " 0.16033497 0.16564542 0.17116013 0.17422386 0.18035131 0.17401961\n",
            " 0.16278595 0.16973039 0.17810458 0.17034314 0.16830065 0.17279412\n",
            " 0.17544935 0.18382353 0.19138072 0.18913399 0.19097222 0.17238562\n",
            " 0.16830065 0.1693219  0.17177288 0.16156046 0.14971405 0.1503268\n",
            " 0.15196078 0.14726307 0.14501634 0.14603758 0.12479575 0.13112745\n",
            " 0.11397059 0.1190768  0.12377451 0.13562092 0.12908497 0.13459967\n",
            " 0.12806373 0.13031046 0.12724673 0.13521242 0.14522059 0.15257353\n",
            " 0.14848856 0.14338235 0.14562908 0.15236928 0.15400327 0.14971405\n",
            " 0.1621732  0.16319444 0.16584967 0.17074783]\n",
            "1 day output [[0.17448108]]\n",
            "2 day input [0.14011438 0.13888889 0.13541667 0.14011438 0.1380719  0.13071895\n",
            " 0.13071895 0.12867647 0.11846405 0.14644608 0.14808007 0.15910948\n",
            " 0.15992647 0.15788399 0.16441993 0.17892157 0.17933007 0.19260621\n",
            " 0.20812908 0.18974673 0.18055556 0.18239379 0.17708333 0.17810458\n",
            " 0.18055556 0.17810458 0.17851307 0.19607843 0.18913399 0.18954248\n",
            " 0.19403595 0.19444444 0.20200163 0.19771242 0.19934641 0.19873366\n",
            " 0.1997549  0.2128268  0.21568627 0.20445261 0.21772876 0.21098856\n",
            " 0.21425654 0.19750817 0.18811275 0.17851307 0.17381536 0.16033497\n",
            " 0.16564542 0.17116013 0.17422386 0.18035131 0.17401961 0.16278595\n",
            " 0.16973039 0.17810458 0.17034314 0.16830065 0.17279412 0.17544935\n",
            " 0.18382353 0.19138072 0.18913399 0.19097222 0.17238562 0.16830065\n",
            " 0.1693219  0.17177288 0.16156046 0.14971405 0.1503268  0.15196078\n",
            " 0.14726307 0.14501634 0.14603758 0.12479575 0.13112745 0.11397059\n",
            " 0.1190768  0.12377451 0.13562092 0.12908497 0.13459967 0.12806373\n",
            " 0.13031046 0.12724673 0.13521242 0.14522059 0.15257353 0.14848856\n",
            " 0.14338235 0.14562908 0.15236928 0.15400327 0.14971405 0.1621732\n",
            " 0.16319444 0.16584967 0.17074783 0.17448108]\n",
            "2 day output [[0.17819431]]\n",
            "3 day input [0.13888889 0.13541667 0.14011438 0.1380719  0.13071895 0.13071895\n",
            " 0.12867647 0.11846405 0.14644608 0.14808007 0.15910948 0.15992647\n",
            " 0.15788399 0.16441993 0.17892157 0.17933007 0.19260621 0.20812908\n",
            " 0.18974673 0.18055556 0.18239379 0.17708333 0.17810458 0.18055556\n",
            " 0.17810458 0.17851307 0.19607843 0.18913399 0.18954248 0.19403595\n",
            " 0.19444444 0.20200163 0.19771242 0.19934641 0.19873366 0.1997549\n",
            " 0.2128268  0.21568627 0.20445261 0.21772876 0.21098856 0.21425654\n",
            " 0.19750817 0.18811275 0.17851307 0.17381536 0.16033497 0.16564542\n",
            " 0.17116013 0.17422386 0.18035131 0.17401961 0.16278595 0.16973039\n",
            " 0.17810458 0.17034314 0.16830065 0.17279412 0.17544935 0.18382353\n",
            " 0.19138072 0.18913399 0.19097222 0.17238562 0.16830065 0.1693219\n",
            " 0.17177288 0.16156046 0.14971405 0.1503268  0.15196078 0.14726307\n",
            " 0.14501634 0.14603758 0.12479575 0.13112745 0.11397059 0.1190768\n",
            " 0.12377451 0.13562092 0.12908497 0.13459967 0.12806373 0.13031046\n",
            " 0.12724673 0.13521242 0.14522059 0.15257353 0.14848856 0.14338235\n",
            " 0.14562908 0.15236928 0.15400327 0.14971405 0.1621732  0.16319444\n",
            " 0.16584967 0.17074783 0.17448108 0.17819431]\n",
            "3 day output [[0.18176673]]\n",
            "4 day input [0.13541667 0.14011438 0.1380719  0.13071895 0.13071895 0.12867647\n",
            " 0.11846405 0.14644608 0.14808007 0.15910948 0.15992647 0.15788399\n",
            " 0.16441993 0.17892157 0.17933007 0.19260621 0.20812908 0.18974673\n",
            " 0.18055556 0.18239379 0.17708333 0.17810458 0.18055556 0.17810458\n",
            " 0.17851307 0.19607843 0.18913399 0.18954248 0.19403595 0.19444444\n",
            " 0.20200163 0.19771242 0.19934641 0.19873366 0.1997549  0.2128268\n",
            " 0.21568627 0.20445261 0.21772876 0.21098856 0.21425654 0.19750817\n",
            " 0.18811275 0.17851307 0.17381536 0.16033497 0.16564542 0.17116013\n",
            " 0.17422386 0.18035131 0.17401961 0.16278595 0.16973039 0.17810458\n",
            " 0.17034314 0.16830065 0.17279412 0.17544935 0.18382353 0.19138072\n",
            " 0.18913399 0.19097222 0.17238562 0.16830065 0.1693219  0.17177288\n",
            " 0.16156046 0.14971405 0.1503268  0.15196078 0.14726307 0.14501634\n",
            " 0.14603758 0.12479575 0.13112745 0.11397059 0.1190768  0.12377451\n",
            " 0.13562092 0.12908497 0.13459967 0.12806373 0.13031046 0.12724673\n",
            " 0.13521242 0.14522059 0.15257353 0.14848856 0.14338235 0.14562908\n",
            " 0.15236928 0.15400327 0.14971405 0.1621732  0.16319444 0.16584967\n",
            " 0.17074783 0.17448108 0.17819431 0.18176673]\n",
            "4 day output [[0.1851593]]\n",
            "5 day input [0.14011438 0.1380719  0.13071895 0.13071895 0.12867647 0.11846405\n",
            " 0.14644608 0.14808007 0.15910948 0.15992647 0.15788399 0.16441993\n",
            " 0.17892157 0.17933007 0.19260621 0.20812908 0.18974673 0.18055556\n",
            " 0.18239379 0.17708333 0.17810458 0.18055556 0.17810458 0.17851307\n",
            " 0.19607843 0.18913399 0.18954248 0.19403595 0.19444444 0.20200163\n",
            " 0.19771242 0.19934641 0.19873366 0.1997549  0.2128268  0.21568627\n",
            " 0.20445261 0.21772876 0.21098856 0.21425654 0.19750817 0.18811275\n",
            " 0.17851307 0.17381536 0.16033497 0.16564542 0.17116013 0.17422386\n",
            " 0.18035131 0.17401961 0.16278595 0.16973039 0.17810458 0.17034314\n",
            " 0.16830065 0.17279412 0.17544935 0.18382353 0.19138072 0.18913399\n",
            " 0.19097222 0.17238562 0.16830065 0.1693219  0.17177288 0.16156046\n",
            " 0.14971405 0.1503268  0.15196078 0.14726307 0.14501634 0.14603758\n",
            " 0.12479575 0.13112745 0.11397059 0.1190768  0.12377451 0.13562092\n",
            " 0.12908497 0.13459967 0.12806373 0.13031046 0.12724673 0.13521242\n",
            " 0.14522059 0.15257353 0.14848856 0.14338235 0.14562908 0.15236928\n",
            " 0.15400327 0.14971405 0.1621732  0.16319444 0.16584967 0.17074783\n",
            " 0.17448108 0.17819431 0.18176673 0.1851593 ]\n",
            "5 day output [[0.18836507]]\n",
            "6 day input [0.1380719  0.13071895 0.13071895 0.12867647 0.11846405 0.14644608\n",
            " 0.14808007 0.15910948 0.15992647 0.15788399 0.16441993 0.17892157\n",
            " 0.17933007 0.19260621 0.20812908 0.18974673 0.18055556 0.18239379\n",
            " 0.17708333 0.17810458 0.18055556 0.17810458 0.17851307 0.19607843\n",
            " 0.18913399 0.18954248 0.19403595 0.19444444 0.20200163 0.19771242\n",
            " 0.19934641 0.19873366 0.1997549  0.2128268  0.21568627 0.20445261\n",
            " 0.21772876 0.21098856 0.21425654 0.19750817 0.18811275 0.17851307\n",
            " 0.17381536 0.16033497 0.16564542 0.17116013 0.17422386 0.18035131\n",
            " 0.17401961 0.16278595 0.16973039 0.17810458 0.17034314 0.16830065\n",
            " 0.17279412 0.17544935 0.18382353 0.19138072 0.18913399 0.19097222\n",
            " 0.17238562 0.16830065 0.1693219  0.17177288 0.16156046 0.14971405\n",
            " 0.1503268  0.15196078 0.14726307 0.14501634 0.14603758 0.12479575\n",
            " 0.13112745 0.11397059 0.1190768  0.12377451 0.13562092 0.12908497\n",
            " 0.13459967 0.12806373 0.13031046 0.12724673 0.13521242 0.14522059\n",
            " 0.15257353 0.14848856 0.14338235 0.14562908 0.15236928 0.15400327\n",
            " 0.14971405 0.1621732  0.16319444 0.16584967 0.17074783 0.17448108\n",
            " 0.17819431 0.18176673 0.1851593  0.18836507]\n",
            "6 day output [[0.19139038]]\n",
            "7 day input [0.13071895 0.13071895 0.12867647 0.11846405 0.14644608 0.14808007\n",
            " 0.15910948 0.15992647 0.15788399 0.16441993 0.17892157 0.17933007\n",
            " 0.19260621 0.20812908 0.18974673 0.18055556 0.18239379 0.17708333\n",
            " 0.17810458 0.18055556 0.17810458 0.17851307 0.19607843 0.18913399\n",
            " 0.18954248 0.19403595 0.19444444 0.20200163 0.19771242 0.19934641\n",
            " 0.19873366 0.1997549  0.2128268  0.21568627 0.20445261 0.21772876\n",
            " 0.21098856 0.21425654 0.19750817 0.18811275 0.17851307 0.17381536\n",
            " 0.16033497 0.16564542 0.17116013 0.17422386 0.18035131 0.17401961\n",
            " 0.16278595 0.16973039 0.17810458 0.17034314 0.16830065 0.17279412\n",
            " 0.17544935 0.18382353 0.19138072 0.18913399 0.19097222 0.17238562\n",
            " 0.16830065 0.1693219  0.17177288 0.16156046 0.14971405 0.1503268\n",
            " 0.15196078 0.14726307 0.14501634 0.14603758 0.12479575 0.13112745\n",
            " 0.11397059 0.1190768  0.12377451 0.13562092 0.12908497 0.13459967\n",
            " 0.12806373 0.13031046 0.12724673 0.13521242 0.14522059 0.15257353\n",
            " 0.14848856 0.14338235 0.14562908 0.15236928 0.15400327 0.14971405\n",
            " 0.1621732  0.16319444 0.16584967 0.17074783 0.17448108 0.17819431\n",
            " 0.18176673 0.1851593  0.18836507 0.19139038]\n",
            "7 day output [[0.19424823]]\n",
            "8 day input [0.13071895 0.12867647 0.11846405 0.14644608 0.14808007 0.15910948\n",
            " 0.15992647 0.15788399 0.16441993 0.17892157 0.17933007 0.19260621\n",
            " 0.20812908 0.18974673 0.18055556 0.18239379 0.17708333 0.17810458\n",
            " 0.18055556 0.17810458 0.17851307 0.19607843 0.18913399 0.18954248\n",
            " 0.19403595 0.19444444 0.20200163 0.19771242 0.19934641 0.19873366\n",
            " 0.1997549  0.2128268  0.21568627 0.20445261 0.21772876 0.21098856\n",
            " 0.21425654 0.19750817 0.18811275 0.17851307 0.17381536 0.16033497\n",
            " 0.16564542 0.17116013 0.17422386 0.18035131 0.17401961 0.16278595\n",
            " 0.16973039 0.17810458 0.17034314 0.16830065 0.17279412 0.17544935\n",
            " 0.18382353 0.19138072 0.18913399 0.19097222 0.17238562 0.16830065\n",
            " 0.1693219  0.17177288 0.16156046 0.14971405 0.1503268  0.15196078\n",
            " 0.14726307 0.14501634 0.14603758 0.12479575 0.13112745 0.11397059\n",
            " 0.1190768  0.12377451 0.13562092 0.12908497 0.13459967 0.12806373\n",
            " 0.13031046 0.12724673 0.13521242 0.14522059 0.15257353 0.14848856\n",
            " 0.14338235 0.14562908 0.15236928 0.15400327 0.14971405 0.1621732\n",
            " 0.16319444 0.16584967 0.17074783 0.17448108 0.17819431 0.18176673\n",
            " 0.1851593  0.18836507 0.19139038 0.19424823]\n",
            "8 day output [[0.19695526]]\n",
            "9 day input [0.12867647 0.11846405 0.14644608 0.14808007 0.15910948 0.15992647\n",
            " 0.15788399 0.16441993 0.17892157 0.17933007 0.19260621 0.20812908\n",
            " 0.18974673 0.18055556 0.18239379 0.17708333 0.17810458 0.18055556\n",
            " 0.17810458 0.17851307 0.19607843 0.18913399 0.18954248 0.19403595\n",
            " 0.19444444 0.20200163 0.19771242 0.19934641 0.19873366 0.1997549\n",
            " 0.2128268  0.21568627 0.20445261 0.21772876 0.21098856 0.21425654\n",
            " 0.19750817 0.18811275 0.17851307 0.17381536 0.16033497 0.16564542\n",
            " 0.17116013 0.17422386 0.18035131 0.17401961 0.16278595 0.16973039\n",
            " 0.17810458 0.17034314 0.16830065 0.17279412 0.17544935 0.18382353\n",
            " 0.19138072 0.18913399 0.19097222 0.17238562 0.16830065 0.1693219\n",
            " 0.17177288 0.16156046 0.14971405 0.1503268  0.15196078 0.14726307\n",
            " 0.14501634 0.14603758 0.12479575 0.13112745 0.11397059 0.1190768\n",
            " 0.12377451 0.13562092 0.12908497 0.13459967 0.12806373 0.13031046\n",
            " 0.12724673 0.13521242 0.14522059 0.15257353 0.14848856 0.14338235\n",
            " 0.14562908 0.15236928 0.15400327 0.14971405 0.1621732  0.16319444\n",
            " 0.16584967 0.17074783 0.17448108 0.17819431 0.18176673 0.1851593\n",
            " 0.18836507 0.19139038 0.19424823 0.19695526]\n",
            "9 day output [[0.19952878]]\n",
            "10 day input [0.11846405 0.14644608 0.14808007 0.15910948 0.15992647 0.15788399\n",
            " 0.16441993 0.17892157 0.17933007 0.19260621 0.20812908 0.18974673\n",
            " 0.18055556 0.18239379 0.17708333 0.17810458 0.18055556 0.17810458\n",
            " 0.17851307 0.19607843 0.18913399 0.18954248 0.19403595 0.19444444\n",
            " 0.20200163 0.19771242 0.19934641 0.19873366 0.1997549  0.2128268\n",
            " 0.21568627 0.20445261 0.21772876 0.21098856 0.21425654 0.19750817\n",
            " 0.18811275 0.17851307 0.17381536 0.16033497 0.16564542 0.17116013\n",
            " 0.17422386 0.18035131 0.17401961 0.16278595 0.16973039 0.17810458\n",
            " 0.17034314 0.16830065 0.17279412 0.17544935 0.18382353 0.19138072\n",
            " 0.18913399 0.19097222 0.17238562 0.16830065 0.1693219  0.17177288\n",
            " 0.16156046 0.14971405 0.1503268  0.15196078 0.14726307 0.14501634\n",
            " 0.14603758 0.12479575 0.13112745 0.11397059 0.1190768  0.12377451\n",
            " 0.13562092 0.12908497 0.13459967 0.12806373 0.13031046 0.12724673\n",
            " 0.13521242 0.14522059 0.15257353 0.14848856 0.14338235 0.14562908\n",
            " 0.15236928 0.15400327 0.14971405 0.1621732  0.16319444 0.16584967\n",
            " 0.17074783 0.17448108 0.17819431 0.18176673 0.1851593  0.18836507\n",
            " 0.19139038 0.19424823 0.19695526 0.19952878]\n",
            "10 day output [[0.20198555]]\n",
            "11 day input [0.14644608 0.14808007 0.15910948 0.15992647 0.15788399 0.16441993\n",
            " 0.17892157 0.17933007 0.19260621 0.20812908 0.18974673 0.18055556\n",
            " 0.18239379 0.17708333 0.17810458 0.18055556 0.17810458 0.17851307\n",
            " 0.19607843 0.18913399 0.18954248 0.19403595 0.19444444 0.20200163\n",
            " 0.19771242 0.19934641 0.19873366 0.1997549  0.2128268  0.21568627\n",
            " 0.20445261 0.21772876 0.21098856 0.21425654 0.19750817 0.18811275\n",
            " 0.17851307 0.17381536 0.16033497 0.16564542 0.17116013 0.17422386\n",
            " 0.18035131 0.17401961 0.16278595 0.16973039 0.17810458 0.17034314\n",
            " 0.16830065 0.17279412 0.17544935 0.18382353 0.19138072 0.18913399\n",
            " 0.19097222 0.17238562 0.16830065 0.1693219  0.17177288 0.16156046\n",
            " 0.14971405 0.1503268  0.15196078 0.14726307 0.14501634 0.14603758\n",
            " 0.12479575 0.13112745 0.11397059 0.1190768  0.12377451 0.13562092\n",
            " 0.12908497 0.13459967 0.12806373 0.13031046 0.12724673 0.13521242\n",
            " 0.14522059 0.15257353 0.14848856 0.14338235 0.14562908 0.15236928\n",
            " 0.15400327 0.14971405 0.1621732  0.16319444 0.16584967 0.17074783\n",
            " 0.17448108 0.17819431 0.18176673 0.1851593  0.18836507 0.19139038\n",
            " 0.19424823 0.19695526 0.19952878 0.20198555]\n",
            "11 day output [[0.20434009]]\n",
            "12 day input [0.14808007 0.15910948 0.15992647 0.15788399 0.16441993 0.17892157\n",
            " 0.17933007 0.19260621 0.20812908 0.18974673 0.18055556 0.18239379\n",
            " 0.17708333 0.17810458 0.18055556 0.17810458 0.17851307 0.19607843\n",
            " 0.18913399 0.18954248 0.19403595 0.19444444 0.20200163 0.19771242\n",
            " 0.19934641 0.19873366 0.1997549  0.2128268  0.21568627 0.20445261\n",
            " 0.21772876 0.21098856 0.21425654 0.19750817 0.18811275 0.17851307\n",
            " 0.17381536 0.16033497 0.16564542 0.17116013 0.17422386 0.18035131\n",
            " 0.17401961 0.16278595 0.16973039 0.17810458 0.17034314 0.16830065\n",
            " 0.17279412 0.17544935 0.18382353 0.19138072 0.18913399 0.19097222\n",
            " 0.17238562 0.16830065 0.1693219  0.17177288 0.16156046 0.14971405\n",
            " 0.1503268  0.15196078 0.14726307 0.14501634 0.14603758 0.12479575\n",
            " 0.13112745 0.11397059 0.1190768  0.12377451 0.13562092 0.12908497\n",
            " 0.13459967 0.12806373 0.13031046 0.12724673 0.13521242 0.14522059\n",
            " 0.15257353 0.14848856 0.14338235 0.14562908 0.15236928 0.15400327\n",
            " 0.14971405 0.1621732  0.16319444 0.16584967 0.17074783 0.17448108\n",
            " 0.17819431 0.18176673 0.1851593  0.18836507 0.19139038 0.19424823\n",
            " 0.19695526 0.19952878 0.20198555 0.20434009]\n",
            "12 day output [[0.20660461]]\n",
            "13 day input [0.15910948 0.15992647 0.15788399 0.16441993 0.17892157 0.17933007\n",
            " 0.19260621 0.20812908 0.18974673 0.18055556 0.18239379 0.17708333\n",
            " 0.17810458 0.18055556 0.17810458 0.17851307 0.19607843 0.18913399\n",
            " 0.18954248 0.19403595 0.19444444 0.20200163 0.19771242 0.19934641\n",
            " 0.19873366 0.1997549  0.2128268  0.21568627 0.20445261 0.21772876\n",
            " 0.21098856 0.21425654 0.19750817 0.18811275 0.17851307 0.17381536\n",
            " 0.16033497 0.16564542 0.17116013 0.17422386 0.18035131 0.17401961\n",
            " 0.16278595 0.16973039 0.17810458 0.17034314 0.16830065 0.17279412\n",
            " 0.17544935 0.18382353 0.19138072 0.18913399 0.19097222 0.17238562\n",
            " 0.16830065 0.1693219  0.17177288 0.16156046 0.14971405 0.1503268\n",
            " 0.15196078 0.14726307 0.14501634 0.14603758 0.12479575 0.13112745\n",
            " 0.11397059 0.1190768  0.12377451 0.13562092 0.12908497 0.13459967\n",
            " 0.12806373 0.13031046 0.12724673 0.13521242 0.14522059 0.15257353\n",
            " 0.14848856 0.14338235 0.14562908 0.15236928 0.15400327 0.14971405\n",
            " 0.1621732  0.16319444 0.16584967 0.17074783 0.17448108 0.17819431\n",
            " 0.18176673 0.1851593  0.18836507 0.19139038 0.19424823 0.19695526\n",
            " 0.19952878 0.20198555 0.20434009 0.20660461]\n",
            "13 day output [[0.20878913]]\n",
            "14 day input [0.15992647 0.15788399 0.16441993 0.17892157 0.17933007 0.19260621\n",
            " 0.20812908 0.18974673 0.18055556 0.18239379 0.17708333 0.17810458\n",
            " 0.18055556 0.17810458 0.17851307 0.19607843 0.18913399 0.18954248\n",
            " 0.19403595 0.19444444 0.20200163 0.19771242 0.19934641 0.19873366\n",
            " 0.1997549  0.2128268  0.21568627 0.20445261 0.21772876 0.21098856\n",
            " 0.21425654 0.19750817 0.18811275 0.17851307 0.17381536 0.16033497\n",
            " 0.16564542 0.17116013 0.17422386 0.18035131 0.17401961 0.16278595\n",
            " 0.16973039 0.17810458 0.17034314 0.16830065 0.17279412 0.17544935\n",
            " 0.18382353 0.19138072 0.18913399 0.19097222 0.17238562 0.16830065\n",
            " 0.1693219  0.17177288 0.16156046 0.14971405 0.1503268  0.15196078\n",
            " 0.14726307 0.14501634 0.14603758 0.12479575 0.13112745 0.11397059\n",
            " 0.1190768  0.12377451 0.13562092 0.12908497 0.13459967 0.12806373\n",
            " 0.13031046 0.12724673 0.13521242 0.14522059 0.15257353 0.14848856\n",
            " 0.14338235 0.14562908 0.15236928 0.15400327 0.14971405 0.1621732\n",
            " 0.16319444 0.16584967 0.17074783 0.17448108 0.17819431 0.18176673\n",
            " 0.1851593  0.18836507 0.19139038 0.19424823 0.19695526 0.19952878\n",
            " 0.20198555 0.20434009 0.20660461 0.20878913]\n",
            "14 day output [[0.21090133]]\n",
            "15 day input [0.15788399 0.16441993 0.17892157 0.17933007 0.19260621 0.20812908\n",
            " 0.18974673 0.18055556 0.18239379 0.17708333 0.17810458 0.18055556\n",
            " 0.17810458 0.17851307 0.19607843 0.18913399 0.18954248 0.19403595\n",
            " 0.19444444 0.20200163 0.19771242 0.19934641 0.19873366 0.1997549\n",
            " 0.2128268  0.21568627 0.20445261 0.21772876 0.21098856 0.21425654\n",
            " 0.19750817 0.18811275 0.17851307 0.17381536 0.16033497 0.16564542\n",
            " 0.17116013 0.17422386 0.18035131 0.17401961 0.16278595 0.16973039\n",
            " 0.17810458 0.17034314 0.16830065 0.17279412 0.17544935 0.18382353\n",
            " 0.19138072 0.18913399 0.19097222 0.17238562 0.16830065 0.1693219\n",
            " 0.17177288 0.16156046 0.14971405 0.1503268  0.15196078 0.14726307\n",
            " 0.14501634 0.14603758 0.12479575 0.13112745 0.11397059 0.1190768\n",
            " 0.12377451 0.13562092 0.12908497 0.13459967 0.12806373 0.13031046\n",
            " 0.12724673 0.13521242 0.14522059 0.15257353 0.14848856 0.14338235\n",
            " 0.14562908 0.15236928 0.15400327 0.14971405 0.1621732  0.16319444\n",
            " 0.16584967 0.17074783 0.17448108 0.17819431 0.18176673 0.1851593\n",
            " 0.18836507 0.19139038 0.19424823 0.19695526 0.19952878 0.20198555\n",
            " 0.20434009 0.20660461 0.20878913 0.21090133]\n",
            "15 day output [[0.21294764]]\n",
            "16 day input [0.16441993 0.17892157 0.17933007 0.19260621 0.20812908 0.18974673\n",
            " 0.18055556 0.18239379 0.17708333 0.17810458 0.18055556 0.17810458\n",
            " 0.17851307 0.19607843 0.18913399 0.18954248 0.19403595 0.19444444\n",
            " 0.20200163 0.19771242 0.19934641 0.19873366 0.1997549  0.2128268\n",
            " 0.21568627 0.20445261 0.21772876 0.21098856 0.21425654 0.19750817\n",
            " 0.18811275 0.17851307 0.17381536 0.16033497 0.16564542 0.17116013\n",
            " 0.17422386 0.18035131 0.17401961 0.16278595 0.16973039 0.17810458\n",
            " 0.17034314 0.16830065 0.17279412 0.17544935 0.18382353 0.19138072\n",
            " 0.18913399 0.19097222 0.17238562 0.16830065 0.1693219  0.17177288\n",
            " 0.16156046 0.14971405 0.1503268  0.15196078 0.14726307 0.14501634\n",
            " 0.14603758 0.12479575 0.13112745 0.11397059 0.1190768  0.12377451\n",
            " 0.13562092 0.12908497 0.13459967 0.12806373 0.13031046 0.12724673\n",
            " 0.13521242 0.14522059 0.15257353 0.14848856 0.14338235 0.14562908\n",
            " 0.15236928 0.15400327 0.14971405 0.1621732  0.16319444 0.16584967\n",
            " 0.17074783 0.17448108 0.17819431 0.18176673 0.1851593  0.18836507\n",
            " 0.19139038 0.19424823 0.19695526 0.19952878 0.20198555 0.20434009\n",
            " 0.20660461 0.20878913 0.21090133 0.21294764]\n",
            "16 day output [[0.21493325]]\n",
            "17 day input [0.17892157 0.17933007 0.19260621 0.20812908 0.18974673 0.18055556\n",
            " 0.18239379 0.17708333 0.17810458 0.18055556 0.17810458 0.17851307\n",
            " 0.19607843 0.18913399 0.18954248 0.19403595 0.19444444 0.20200163\n",
            " 0.19771242 0.19934641 0.19873366 0.1997549  0.2128268  0.21568627\n",
            " 0.20445261 0.21772876 0.21098856 0.21425654 0.19750817 0.18811275\n",
            " 0.17851307 0.17381536 0.16033497 0.16564542 0.17116013 0.17422386\n",
            " 0.18035131 0.17401961 0.16278595 0.16973039 0.17810458 0.17034314\n",
            " 0.16830065 0.17279412 0.17544935 0.18382353 0.19138072 0.18913399\n",
            " 0.19097222 0.17238562 0.16830065 0.1693219  0.17177288 0.16156046\n",
            " 0.14971405 0.1503268  0.15196078 0.14726307 0.14501634 0.14603758\n",
            " 0.12479575 0.13112745 0.11397059 0.1190768  0.12377451 0.13562092\n",
            " 0.12908497 0.13459967 0.12806373 0.13031046 0.12724673 0.13521242\n",
            " 0.14522059 0.15257353 0.14848856 0.14338235 0.14562908 0.15236928\n",
            " 0.15400327 0.14971405 0.1621732  0.16319444 0.16584967 0.17074783\n",
            " 0.17448108 0.17819431 0.18176673 0.1851593  0.18836507 0.19139038\n",
            " 0.19424823 0.19695526 0.19952878 0.20198555 0.20434009 0.20660461\n",
            " 0.20878913 0.21090133 0.21294764 0.21493325]\n",
            "17 day output [[0.2168628]]\n",
            "18 day input [0.17933007 0.19260621 0.20812908 0.18974673 0.18055556 0.18239379\n",
            " 0.17708333 0.17810458 0.18055556 0.17810458 0.17851307 0.19607843\n",
            " 0.18913399 0.18954248 0.19403595 0.19444444 0.20200163 0.19771242\n",
            " 0.19934641 0.19873366 0.1997549  0.2128268  0.21568627 0.20445261\n",
            " 0.21772876 0.21098856 0.21425654 0.19750817 0.18811275 0.17851307\n",
            " 0.17381536 0.16033497 0.16564542 0.17116013 0.17422386 0.18035131\n",
            " 0.17401961 0.16278595 0.16973039 0.17810458 0.17034314 0.16830065\n",
            " 0.17279412 0.17544935 0.18382353 0.19138072 0.18913399 0.19097222\n",
            " 0.17238562 0.16830065 0.1693219  0.17177288 0.16156046 0.14971405\n",
            " 0.1503268  0.15196078 0.14726307 0.14501634 0.14603758 0.12479575\n",
            " 0.13112745 0.11397059 0.1190768  0.12377451 0.13562092 0.12908497\n",
            " 0.13459967 0.12806373 0.13031046 0.12724673 0.13521242 0.14522059\n",
            " 0.15257353 0.14848856 0.14338235 0.14562908 0.15236928 0.15400327\n",
            " 0.14971405 0.1621732  0.16319444 0.16584967 0.17074783 0.17448108\n",
            " 0.17819431 0.18176673 0.1851593  0.18836507 0.19139038 0.19424823\n",
            " 0.19695526 0.19952878 0.20198555 0.20434009 0.20660461 0.20878913\n",
            " 0.21090133 0.21294764 0.21493325 0.2168628 ]\n",
            "18 day output [[0.21874063]]\n",
            "19 day input [0.19260621 0.20812908 0.18974673 0.18055556 0.18239379 0.17708333\n",
            " 0.17810458 0.18055556 0.17810458 0.17851307 0.19607843 0.18913399\n",
            " 0.18954248 0.19403595 0.19444444 0.20200163 0.19771242 0.19934641\n",
            " 0.19873366 0.1997549  0.2128268  0.21568627 0.20445261 0.21772876\n",
            " 0.21098856 0.21425654 0.19750817 0.18811275 0.17851307 0.17381536\n",
            " 0.16033497 0.16564542 0.17116013 0.17422386 0.18035131 0.17401961\n",
            " 0.16278595 0.16973039 0.17810458 0.17034314 0.16830065 0.17279412\n",
            " 0.17544935 0.18382353 0.19138072 0.18913399 0.19097222 0.17238562\n",
            " 0.16830065 0.1693219  0.17177288 0.16156046 0.14971405 0.1503268\n",
            " 0.15196078 0.14726307 0.14501634 0.14603758 0.12479575 0.13112745\n",
            " 0.11397059 0.1190768  0.12377451 0.13562092 0.12908497 0.13459967\n",
            " 0.12806373 0.13031046 0.12724673 0.13521242 0.14522059 0.15257353\n",
            " 0.14848856 0.14338235 0.14562908 0.15236928 0.15400327 0.14971405\n",
            " 0.1621732  0.16319444 0.16584967 0.17074783 0.17448108 0.17819431\n",
            " 0.18176673 0.1851593  0.18836507 0.19139038 0.19424823 0.19695526\n",
            " 0.19952878 0.20198555 0.20434009 0.20660461 0.20878913 0.21090133\n",
            " 0.21294764 0.21493325 0.2168628  0.21874063]\n",
            "19 day output [[0.2205711]]\n",
            "20 day input [0.20812908 0.18974673 0.18055556 0.18239379 0.17708333 0.17810458\n",
            " 0.18055556 0.17810458 0.17851307 0.19607843 0.18913399 0.18954248\n",
            " 0.19403595 0.19444444 0.20200163 0.19771242 0.19934641 0.19873366\n",
            " 0.1997549  0.2128268  0.21568627 0.20445261 0.21772876 0.21098856\n",
            " 0.21425654 0.19750817 0.18811275 0.17851307 0.17381536 0.16033497\n",
            " 0.16564542 0.17116013 0.17422386 0.18035131 0.17401961 0.16278595\n",
            " 0.16973039 0.17810458 0.17034314 0.16830065 0.17279412 0.17544935\n",
            " 0.18382353 0.19138072 0.18913399 0.19097222 0.17238562 0.16830065\n",
            " 0.1693219  0.17177288 0.16156046 0.14971405 0.1503268  0.15196078\n",
            " 0.14726307 0.14501634 0.14603758 0.12479575 0.13112745 0.11397059\n",
            " 0.1190768  0.12377451 0.13562092 0.12908497 0.13459967 0.12806373\n",
            " 0.13031046 0.12724673 0.13521242 0.14522059 0.15257353 0.14848856\n",
            " 0.14338235 0.14562908 0.15236928 0.15400327 0.14971405 0.1621732\n",
            " 0.16319444 0.16584967 0.17074783 0.17448108 0.17819431 0.18176673\n",
            " 0.1851593  0.18836507 0.19139038 0.19424823 0.19695526 0.19952878\n",
            " 0.20198555 0.20434009 0.20660461 0.20878913 0.21090133 0.21294764\n",
            " 0.21493325 0.2168628  0.21874063 0.2205711 ]\n",
            "20 day output [[0.22235854]]\n",
            "21 day input [0.18974673 0.18055556 0.18239379 0.17708333 0.17810458 0.18055556\n",
            " 0.17810458 0.17851307 0.19607843 0.18913399 0.18954248 0.19403595\n",
            " 0.19444444 0.20200163 0.19771242 0.19934641 0.19873366 0.1997549\n",
            " 0.2128268  0.21568627 0.20445261 0.21772876 0.21098856 0.21425654\n",
            " 0.19750817 0.18811275 0.17851307 0.17381536 0.16033497 0.16564542\n",
            " 0.17116013 0.17422386 0.18035131 0.17401961 0.16278595 0.16973039\n",
            " 0.17810458 0.17034314 0.16830065 0.17279412 0.17544935 0.18382353\n",
            " 0.19138072 0.18913399 0.19097222 0.17238562 0.16830065 0.1693219\n",
            " 0.17177288 0.16156046 0.14971405 0.1503268  0.15196078 0.14726307\n",
            " 0.14501634 0.14603758 0.12479575 0.13112745 0.11397059 0.1190768\n",
            " 0.12377451 0.13562092 0.12908497 0.13459967 0.12806373 0.13031046\n",
            " 0.12724673 0.13521242 0.14522059 0.15257353 0.14848856 0.14338235\n",
            " 0.14562908 0.15236928 0.15400327 0.14971405 0.1621732  0.16319444\n",
            " 0.16584967 0.17074783 0.17448108 0.17819431 0.18176673 0.1851593\n",
            " 0.18836507 0.19139038 0.19424823 0.19695526 0.19952878 0.20198555\n",
            " 0.20434009 0.20660461 0.20878913 0.21090133 0.21294764 0.21493325\n",
            " 0.2168628  0.21874063 0.2205711  0.22235854]\n",
            "21 day output [[0.22410753]]\n",
            "22 day input [0.18055556 0.18239379 0.17708333 0.17810458 0.18055556 0.17810458\n",
            " 0.17851307 0.19607843 0.18913399 0.18954248 0.19403595 0.19444444\n",
            " 0.20200163 0.19771242 0.19934641 0.19873366 0.1997549  0.2128268\n",
            " 0.21568627 0.20445261 0.21772876 0.21098856 0.21425654 0.19750817\n",
            " 0.18811275 0.17851307 0.17381536 0.16033497 0.16564542 0.17116013\n",
            " 0.17422386 0.18035131 0.17401961 0.16278595 0.16973039 0.17810458\n",
            " 0.17034314 0.16830065 0.17279412 0.17544935 0.18382353 0.19138072\n",
            " 0.18913399 0.19097222 0.17238562 0.16830065 0.1693219  0.17177288\n",
            " 0.16156046 0.14971405 0.1503268  0.15196078 0.14726307 0.14501634\n",
            " 0.14603758 0.12479575 0.13112745 0.11397059 0.1190768  0.12377451\n",
            " 0.13562092 0.12908497 0.13459967 0.12806373 0.13031046 0.12724673\n",
            " 0.13521242 0.14522059 0.15257353 0.14848856 0.14338235 0.14562908\n",
            " 0.15236928 0.15400327 0.14971405 0.1621732  0.16319444 0.16584967\n",
            " 0.17074783 0.17448108 0.17819431 0.18176673 0.1851593  0.18836507\n",
            " 0.19139038 0.19424823 0.19695526 0.19952878 0.20198555 0.20434009\n",
            " 0.20660461 0.20878913 0.21090133 0.21294764 0.21493325 0.2168628\n",
            " 0.21874063 0.2205711  0.22235854 0.22410753]\n",
            "22 day output [[0.22582231]]\n",
            "23 day input [0.18239379 0.17708333 0.17810458 0.18055556 0.17810458 0.17851307\n",
            " 0.19607843 0.18913399 0.18954248 0.19403595 0.19444444 0.20200163\n",
            " 0.19771242 0.19934641 0.19873366 0.1997549  0.2128268  0.21568627\n",
            " 0.20445261 0.21772876 0.21098856 0.21425654 0.19750817 0.18811275\n",
            " 0.17851307 0.17381536 0.16033497 0.16564542 0.17116013 0.17422386\n",
            " 0.18035131 0.17401961 0.16278595 0.16973039 0.17810458 0.17034314\n",
            " 0.16830065 0.17279412 0.17544935 0.18382353 0.19138072 0.18913399\n",
            " 0.19097222 0.17238562 0.16830065 0.1693219  0.17177288 0.16156046\n",
            " 0.14971405 0.1503268  0.15196078 0.14726307 0.14501634 0.14603758\n",
            " 0.12479575 0.13112745 0.11397059 0.1190768  0.12377451 0.13562092\n",
            " 0.12908497 0.13459967 0.12806373 0.13031046 0.12724673 0.13521242\n",
            " 0.14522059 0.15257353 0.14848856 0.14338235 0.14562908 0.15236928\n",
            " 0.15400327 0.14971405 0.1621732  0.16319444 0.16584967 0.17074783\n",
            " 0.17448108 0.17819431 0.18176673 0.1851593  0.18836507 0.19139038\n",
            " 0.19424823 0.19695526 0.19952878 0.20198555 0.20434009 0.20660461\n",
            " 0.20878913 0.21090133 0.21294764 0.21493325 0.2168628  0.21874063\n",
            " 0.2205711  0.22235854 0.22410753 0.22582231]\n",
            "23 day output [[0.22750731]]\n",
            "24 day input [0.17708333 0.17810458 0.18055556 0.17810458 0.17851307 0.19607843\n",
            " 0.18913399 0.18954248 0.19403595 0.19444444 0.20200163 0.19771242\n",
            " 0.19934641 0.19873366 0.1997549  0.2128268  0.21568627 0.20445261\n",
            " 0.21772876 0.21098856 0.21425654 0.19750817 0.18811275 0.17851307\n",
            " 0.17381536 0.16033497 0.16564542 0.17116013 0.17422386 0.18035131\n",
            " 0.17401961 0.16278595 0.16973039 0.17810458 0.17034314 0.16830065\n",
            " 0.17279412 0.17544935 0.18382353 0.19138072 0.18913399 0.19097222\n",
            " 0.17238562 0.16830065 0.1693219  0.17177288 0.16156046 0.14971405\n",
            " 0.1503268  0.15196078 0.14726307 0.14501634 0.14603758 0.12479575\n",
            " 0.13112745 0.11397059 0.1190768  0.12377451 0.13562092 0.12908497\n",
            " 0.13459967 0.12806373 0.13031046 0.12724673 0.13521242 0.14522059\n",
            " 0.15257353 0.14848856 0.14338235 0.14562908 0.15236928 0.15400327\n",
            " 0.14971405 0.1621732  0.16319444 0.16584967 0.17074783 0.17448108\n",
            " 0.17819431 0.18176673 0.1851593  0.18836507 0.19139038 0.19424823\n",
            " 0.19695526 0.19952878 0.20198555 0.20434009 0.20660461 0.20878913\n",
            " 0.21090133 0.21294764 0.21493325 0.2168628  0.21874063 0.2205711\n",
            " 0.22235854 0.22410753 0.22582231 0.22750731]\n",
            "24 day output [[0.22916657]]\n",
            "25 day input [0.17810458 0.18055556 0.17810458 0.17851307 0.19607843 0.18913399\n",
            " 0.18954248 0.19403595 0.19444444 0.20200163 0.19771242 0.19934641\n",
            " 0.19873366 0.1997549  0.2128268  0.21568627 0.20445261 0.21772876\n",
            " 0.21098856 0.21425654 0.19750817 0.18811275 0.17851307 0.17381536\n",
            " 0.16033497 0.16564542 0.17116013 0.17422386 0.18035131 0.17401961\n",
            " 0.16278595 0.16973039 0.17810458 0.17034314 0.16830065 0.17279412\n",
            " 0.17544935 0.18382353 0.19138072 0.18913399 0.19097222 0.17238562\n",
            " 0.16830065 0.1693219  0.17177288 0.16156046 0.14971405 0.1503268\n",
            " 0.15196078 0.14726307 0.14501634 0.14603758 0.12479575 0.13112745\n",
            " 0.11397059 0.1190768  0.12377451 0.13562092 0.12908497 0.13459967\n",
            " 0.12806373 0.13031046 0.12724673 0.13521242 0.14522059 0.15257353\n",
            " 0.14848856 0.14338235 0.14562908 0.15236928 0.15400327 0.14971405\n",
            " 0.1621732  0.16319444 0.16584967 0.17074783 0.17448108 0.17819431\n",
            " 0.18176673 0.1851593  0.18836507 0.19139038 0.19424823 0.19695526\n",
            " 0.19952878 0.20198555 0.20434009 0.20660461 0.20878913 0.21090133\n",
            " 0.21294764 0.21493325 0.2168628  0.21874063 0.2205711  0.22235854\n",
            " 0.22410753 0.22582231 0.22750731 0.22916657]\n",
            "25 day output [[0.2308036]]\n",
            "26 day input [0.18055556 0.17810458 0.17851307 0.19607843 0.18913399 0.18954248\n",
            " 0.19403595 0.19444444 0.20200163 0.19771242 0.19934641 0.19873366\n",
            " 0.1997549  0.2128268  0.21568627 0.20445261 0.21772876 0.21098856\n",
            " 0.21425654 0.19750817 0.18811275 0.17851307 0.17381536 0.16033497\n",
            " 0.16564542 0.17116013 0.17422386 0.18035131 0.17401961 0.16278595\n",
            " 0.16973039 0.17810458 0.17034314 0.16830065 0.17279412 0.17544935\n",
            " 0.18382353 0.19138072 0.18913399 0.19097222 0.17238562 0.16830065\n",
            " 0.1693219  0.17177288 0.16156046 0.14971405 0.1503268  0.15196078\n",
            " 0.14726307 0.14501634 0.14603758 0.12479575 0.13112745 0.11397059\n",
            " 0.1190768  0.12377451 0.13562092 0.12908497 0.13459967 0.12806373\n",
            " 0.13031046 0.12724673 0.13521242 0.14522059 0.15257353 0.14848856\n",
            " 0.14338235 0.14562908 0.15236928 0.15400327 0.14971405 0.1621732\n",
            " 0.16319444 0.16584967 0.17074783 0.17448108 0.17819431 0.18176673\n",
            " 0.1851593  0.18836507 0.19139038 0.19424823 0.19695526 0.19952878\n",
            " 0.20198555 0.20434009 0.20660461 0.20878913 0.21090133 0.21294764\n",
            " 0.21493325 0.2168628  0.21874063 0.2205711  0.22235854 0.22410753\n",
            " 0.22582231 0.22750731 0.22916657 0.23080359]\n",
            "26 day output [[0.23242159]]\n",
            "27 day input [0.17810458 0.17851307 0.19607843 0.18913399 0.18954248 0.19403595\n",
            " 0.19444444 0.20200163 0.19771242 0.19934641 0.19873366 0.1997549\n",
            " 0.2128268  0.21568627 0.20445261 0.21772876 0.21098856 0.21425654\n",
            " 0.19750817 0.18811275 0.17851307 0.17381536 0.16033497 0.16564542\n",
            " 0.17116013 0.17422386 0.18035131 0.17401961 0.16278595 0.16973039\n",
            " 0.17810458 0.17034314 0.16830065 0.17279412 0.17544935 0.18382353\n",
            " 0.19138072 0.18913399 0.19097222 0.17238562 0.16830065 0.1693219\n",
            " 0.17177288 0.16156046 0.14971405 0.1503268  0.15196078 0.14726307\n",
            " 0.14501634 0.14603758 0.12479575 0.13112745 0.11397059 0.1190768\n",
            " 0.12377451 0.13562092 0.12908497 0.13459967 0.12806373 0.13031046\n",
            " 0.12724673 0.13521242 0.14522059 0.15257353 0.14848856 0.14338235\n",
            " 0.14562908 0.15236928 0.15400327 0.14971405 0.1621732  0.16319444\n",
            " 0.16584967 0.17074783 0.17448108 0.17819431 0.18176673 0.1851593\n",
            " 0.18836507 0.19139038 0.19424823 0.19695526 0.19952878 0.20198555\n",
            " 0.20434009 0.20660461 0.20878913 0.21090133 0.21294764 0.21493325\n",
            " 0.2168628  0.21874063 0.2205711  0.22235854 0.22410753 0.22582231\n",
            " 0.22750731 0.22916657 0.23080359 0.23242159]\n",
            "27 day output [[0.23402324]]\n",
            "28 day input [0.17851307 0.19607843 0.18913399 0.18954248 0.19403595 0.19444444\n",
            " 0.20200163 0.19771242 0.19934641 0.19873366 0.1997549  0.2128268\n",
            " 0.21568627 0.20445261 0.21772876 0.21098856 0.21425654 0.19750817\n",
            " 0.18811275 0.17851307 0.17381536 0.16033497 0.16564542 0.17116013\n",
            " 0.17422386 0.18035131 0.17401961 0.16278595 0.16973039 0.17810458\n",
            " 0.17034314 0.16830065 0.17279412 0.17544935 0.18382353 0.19138072\n",
            " 0.18913399 0.19097222 0.17238562 0.16830065 0.1693219  0.17177288\n",
            " 0.16156046 0.14971405 0.1503268  0.15196078 0.14726307 0.14501634\n",
            " 0.14603758 0.12479575 0.13112745 0.11397059 0.1190768  0.12377451\n",
            " 0.13562092 0.12908497 0.13459967 0.12806373 0.13031046 0.12724673\n",
            " 0.13521242 0.14522059 0.15257353 0.14848856 0.14338235 0.14562908\n",
            " 0.15236928 0.15400327 0.14971405 0.1621732  0.16319444 0.16584967\n",
            " 0.17074783 0.17448108 0.17819431 0.18176673 0.1851593  0.18836507\n",
            " 0.19139038 0.19424823 0.19695526 0.19952878 0.20198555 0.20434009\n",
            " 0.20660461 0.20878913 0.21090133 0.21294764 0.21493325 0.2168628\n",
            " 0.21874063 0.2205711  0.22235854 0.22410753 0.22582231 0.22750731\n",
            " 0.22916657 0.23080359 0.23242159 0.23402324]\n",
            "28 day output [[0.2356106]]\n",
            "29 day input [0.19607843 0.18913399 0.18954248 0.19403595 0.19444444 0.20200163\n",
            " 0.19771242 0.19934641 0.19873366 0.1997549  0.2128268  0.21568627\n",
            " 0.20445261 0.21772876 0.21098856 0.21425654 0.19750817 0.18811275\n",
            " 0.17851307 0.17381536 0.16033497 0.16564542 0.17116013 0.17422386\n",
            " 0.18035131 0.17401961 0.16278595 0.16973039 0.17810458 0.17034314\n",
            " 0.16830065 0.17279412 0.17544935 0.18382353 0.19138072 0.18913399\n",
            " 0.19097222 0.17238562 0.16830065 0.1693219  0.17177288 0.16156046\n",
            " 0.14971405 0.1503268  0.15196078 0.14726307 0.14501634 0.14603758\n",
            " 0.12479575 0.13112745 0.11397059 0.1190768  0.12377451 0.13562092\n",
            " 0.12908497 0.13459967 0.12806373 0.13031046 0.12724673 0.13521242\n",
            " 0.14522059 0.15257353 0.14848856 0.14338235 0.14562908 0.15236928\n",
            " 0.15400327 0.14971405 0.1621732  0.16319444 0.16584967 0.17074783\n",
            " 0.17448108 0.17819431 0.18176673 0.1851593  0.18836507 0.19139038\n",
            " 0.19424823 0.19695526 0.19952878 0.20198555 0.20434009 0.20660461\n",
            " 0.20878913 0.21090133 0.21294764 0.21493325 0.2168628  0.21874063\n",
            " 0.2205711  0.22235854 0.22410753 0.22582231 0.22750731 0.22916657\n",
            " 0.23080359 0.23242159 0.23402324 0.2356106 ]\n",
            "29 day output [[0.23718514]]\n",
            "[[0.17074783146381378], [0.1744810789823532], [0.1781943142414093], [0.18176673352718353], [0.18515929579734802], [0.18836507201194763], [0.19139038026332855], [0.194248229265213], [0.19695526361465454], [0.1995287835597992], [0.20198555290699005], [0.20434008538722992], [0.20660461485385895], [0.20878912508487701], [0.21090133488178253], [0.21294763684272766], [0.21493324637413025], [0.21686279773712158], [0.21874062716960907], [0.2205711007118225], [0.22235853970050812], [0.2241075336933136], [0.225822314620018], [0.2275073081254959], [0.22916656732559204], [0.23080359399318695], [0.23242159187793732], [0.23402324318885803], [0.23561060428619385], [0.23718513548374176]]\n"
          ]
        }
      ]
    },
    {
      "cell_type": "code",
      "source": [
        "day_new=np.arange(1,101)\n",
        "day_pred=np.arange(101,131)"
      ],
      "metadata": {
        "id": "8_3tva0g0l0S"
      },
      "execution_count": null,
      "outputs": []
    },
    {
      "cell_type": "code",
      "source": [
        "len(df1)"
      ],
      "metadata": {
        "colab": {
          "base_uri": "https://localhost:8080/"
        },
        "id": "n29IPABH0z3a",
        "outputId": "a6fb87a4-4508-400f-cdb8-bffd204bbccb"
      },
      "execution_count": null,
      "outputs": [
        {
          "output_type": "execute_result",
          "data": {
            "text/plain": [
              "2035"
            ]
          },
          "metadata": {},
          "execution_count": 44
        }
      ]
    },
    {
      "cell_type": "code",
      "source": [
        "import matplotlib.pyplot as plt\n",
        "plt.plot(day_new,scaler.inverse_transform(df1[1935:]))\n",
        "plt.plot(day_pred,scaler.inverse_transform(lst_output))"
      ],
      "metadata": {
        "colab": {
          "base_uri": "https://localhost:8080/",
          "height": 283
        },
        "id": "WxqoKlqn0n7Y",
        "outputId": "57aa45fb-5d38-4dc7-8b13-2223edb04195"
      },
      "execution_count": null,
      "outputs": [
        {
          "output_type": "execute_result",
          "data": {
            "text/plain": [
              "[<matplotlib.lines.Line2D at 0x7fdcc4bde790>]"
            ]
          },
          "metadata": {},
          "execution_count": 45
        },
        {
          "output_type": "display_data",
          "data": {
            "image/png": "[encoded data removed]",
            "text/plain": [
              "<Figure size 432x288 with 1 Axes>"
            ]
          },
          "metadata": {
            "needs_background": "light"
          }
        }
      ]
    }
  ]
}